{
  "nbformat": 4,
  "nbformat_minor": 0,
  "metadata": {
    "colab": {
      "name": "LogisticRegression.ipynb",
      "provenance": [],
      "collapsed_sections": []
    },
    "kernelspec": {
      "name": "python3",
      "display_name": "Python 3"
    },
    "accelerator": "GPU"
  },
  "cells": [
    {
      "cell_type": "code",
      "metadata": {
        "id": "QXkk0rhZb7we",
        "colab_type": "code",
        "outputId": "da9502ac-cd51-4308-8213-c257ff07c815",
        "colab": {
          "base_uri": "https://localhost:8080/",
          "height": 122
        }
      },
      "source": [
        "from google.colab import drive\n",
        "drive.mount('/content/drive')"
      ],
      "execution_count": 1,
      "outputs": [
        {
          "output_type": "stream",
          "text": [
            "Go to this URL in a browser: https://accounts.google.com/o/oauth2/auth?client_id=947318989803-6bn6qk8qdgf4n4g3pfee6491hc0brc4i.apps.googleusercontent.com&redirect_uri=urn%3aietf%3awg%3aoauth%3a2.0%3aoob&response_type=code&scope=email%20https%3a%2f%2fwww.googleapis.com%2fauth%2fdocs.test%20https%3a%2f%2fwww.googleapis.com%2fauth%2fdrive%20https%3a%2f%2fwww.googleapis.com%2fauth%2fdrive.photos.readonly%20https%3a%2f%2fwww.googleapis.com%2fauth%2fpeopleapi.readonly\n",
            "\n",
            "Enter your authorization code:\n",
            "··········\n",
            "Mounted at /content/drive\n"
          ],
          "name": "stdout"
        }
      ]
    },
    {
      "cell_type": "code",
      "metadata": {
        "id": "nTXDaBH3cd9m",
        "colab_type": "code",
        "outputId": "4bd49078-e706-422f-d52b-a4dd082d2b0e",
        "colab": {
          "base_uri": "https://localhost:8080/",
          "height": 85
        }
      },
      "source": [
        "# Install the PyDrive wrapper & import libraries.\n",
        "# This only needs to be done once per notebook.\n",
        "!pip install -U -q PyDrive\n",
        "from pydrive.auth import GoogleAuth\n",
        "from pydrive.drive import GoogleDrive\n",
        "from google.colab import auth\n",
        "from oauth2client.client import GoogleCredentials\n",
        "\n",
        "# Authenticate and create the PyDrive client.\n",
        "# This only needs to be done once per notebook.\n",
        "auth.authenticate_user()\n",
        "gauth = GoogleAuth()\n",
        "gauth.credentials = GoogleCredentials.get_application_default()\n",
        "drive = GoogleDrive(gauth)\n",
        "\n",
        "# Download a file based on its file ID.\n",
        "#\n",
        "# A file ID looks like: laggVyWshwcyP6kEI-y_W3P8D26sz\n",
        "listed = drive.ListFile({'q': \"title contains '.pkl' and 'root' in parents\"}).GetList()\n",
        "for file in listed:\n",
        "    print('title {}, id {}'.format(file['title'], file['id']))\n"
      ],
      "execution_count": 2,
      "outputs": [
        {
          "output_type": "stream",
          "text": [
            "title 5s.pkl, id 1mt5-OWZPJkcSJDI84MnIluB6iIEEoosL\n",
            "title 5s.pkl, id 18mwG2e4SJHZAOD2oyaEv0-7_beZe-QcH\n",
            "title refined1.pkl, id 1fo-gIx5b8J9eiZcMFik9zK7OTCgcIJnT\n",
            "title base_df.pkl, id 1iYfS2oBhz4l5YduHbXvwlgU4O-NAZDB8\n"
          ],
          "name": "stdout"
        }
      ]
    },
    {
      "cell_type": "code",
      "metadata": {
        "id": "s4TMeriBYYf1",
        "colab_type": "code",
        "colab": {}
      },
      "source": [
        "#Needed to import left-right dataframe\n",
        "from googleapiclient.discovery import build\n",
        "drive_service = build('drive', 'v3')\n",
        "\n",
        "import io\n",
        "import pickle\n",
        "from googleapiclient.http import MediaIoBaseDownload\n",
        "\n",
        "file_id = '1fo-gIx5b8J9eiZcMFik9zK7OTCgcIJnT'\n",
        "\n",
        "request = drive_service.files().get_media(fileId=file_id)\n",
        "downloaded = io.BytesIO()\n",
        "downloader = MediaIoBaseDownload(downloaded, request)\n",
        "done = False\n",
        "while done is False:\n",
        "    # _ is a placeholder for a progress object that we ignore.\n",
        "    # (Our file is small, so we skip reporting progress.)\n",
        "    _, done = downloader.next_chunk()\n",
        "\n",
        "downloaded.seek(0)\n",
        "f=pickle.load(downloaded)"
      ],
      "execution_count": 0,
      "outputs": []
    },
    {
      "cell_type": "code",
      "metadata": {
        "id": "8YcmM083c5kk",
        "colab_type": "code",
        "outputId": "4c9eb258-219c-4eca-a671-5817fa32e488",
        "colab": {
          "base_uri": "https://localhost:8080/",
          "height": 297
        }
      },
      "source": [
        "f.head(8)"
      ],
      "execution_count": 5,
      "outputs": [
        {
          "output_type": "execute_result",
          "data": {
            "text/html": [
              "<div>\n",
              "<style scoped>\n",
              "    .dataframe tbody tr th:only-of-type {\n",
              "        vertical-align: middle;\n",
              "    }\n",
              "\n",
              "    .dataframe tbody tr th {\n",
              "        vertical-align: top;\n",
              "    }\n",
              "\n",
              "    .dataframe thead th {\n",
              "        text-align: right;\n",
              "    }\n",
              "</style>\n",
              "<table border=\"1\" class=\"dataframe\">\n",
              "  <thead>\n",
              "    <tr style=\"text-align: right;\">\n",
              "      <th></th>\n",
              "      <th>__label__</th>\n",
              "      <th>tweets</th>\n",
              "    </tr>\n",
              "  </thead>\n",
              "  <tbody>\n",
              "    <tr>\n",
              "      <th>0</th>\n",
              "      <td>__label__Right</td>\n",
              "      <td>problema risolve rinviando primavera vorrebbe ...</td>\n",
              "    </tr>\n",
              "    <tr>\n",
              "      <th>1</th>\n",
              "      <td>__label__Left</td>\n",
              "      <td>_lica _ _xy _piu_smocci _g _lica _ _xy _piu_sm...</td>\n",
              "    </tr>\n",
              "    <tr>\n",
              "      <th>2</th>\n",
              "      <td>__label__Unknown</td>\n",
              "      <td>popolo manca laltro pi | _ racconto inedito sa...</td>\n",
              "    </tr>\n",
              "    <tr>\n",
              "      <th>3</th>\n",
              "      <td>__label__Right</td>\n",
              "      <td>gioved\\xc3\\xac 5 dicembre repubblica impuniti ...</td>\n",
              "    </tr>\n",
              "    <tr>\n",
              "      <th>4</th>\n",
              "      <td>__label__Left</td>\n",
              "      <td>gran bretagna paese pi ricco industrializzato ...</td>\n",
              "    </tr>\n",
              "    <tr>\n",
              "      <th>5</th>\n",
              "      <td>__label__Unknown</td>\n",
              "      <td>ambiente costruito piattaforme digitali va ver...</td>\n",
              "    </tr>\n",
              "    <tr>\n",
              "      <th>6</th>\n",
              "      <td>__label__Right</td>\n",
              "      <td>parole parassiti complimenti capitano molto be...</td>\n",
              "    </tr>\n",
              "    <tr>\n",
              "      <th>7</th>\n",
              "      <td>__label__Left</td>\n",
              "      <td>genova + sardine + de andr meraviglia assoluta...</td>\n",
              "    </tr>\n",
              "  </tbody>\n",
              "</table>\n",
              "</div>"
            ],
            "text/plain": [
              "          __label__                                             tweets\n",
              "0    __label__Right  problema risolve rinviando primavera vorrebbe ...\n",
              "1     __label__Left  _lica _ _xy _piu_smocci _g _lica _ _xy _piu_sm...\n",
              "2  __label__Unknown  popolo manca laltro pi | _ racconto inedito sa...\n",
              "3    __label__Right  gioved\\xc3\\xac 5 dicembre repubblica impuniti ...\n",
              "4     __label__Left  gran bretagna paese pi ricco industrializzato ...\n",
              "5  __label__Unknown  ambiente costruito piattaforme digitali va ver...\n",
              "6    __label__Right  parole parassiti complimenti capitano molto be...\n",
              "7     __label__Left  genova + sardine + de andr meraviglia assoluta..."
            ]
          },
          "metadata": {
            "tags": []
          },
          "execution_count": 5
        }
      ]
    },
    {
      "cell_type": "code",
      "metadata": {
        "id": "LcmU5Y3BdwDK",
        "colab_type": "code",
        "colab": {}
      },
      "source": [
        "import pandas as pd\n",
        "import numpy as np\n",
        "df=f\n",
        "\n",
        "\n"
      ],
      "execution_count": 0,
      "outputs": []
    },
    {
      "cell_type": "code",
      "metadata": {
        "id": "0E9k_Gd3d8-B",
        "colab_type": "code",
        "outputId": "410ae84b-25c5-429e-babc-f5ded8513a11",
        "colab": {
          "base_uri": "https://localhost:8080/",
          "height": 204
        }
      },
      "source": [
        "df=f\n",
        "df=df[df.loc[:,'__label__']!='__label__Unknown']\n",
        "df.head()"
      ],
      "execution_count": 7,
      "outputs": [
        {
          "output_type": "execute_result",
          "data": {
            "text/html": [
              "<div>\n",
              "<style scoped>\n",
              "    .dataframe tbody tr th:only-of-type {\n",
              "        vertical-align: middle;\n",
              "    }\n",
              "\n",
              "    .dataframe tbody tr th {\n",
              "        vertical-align: top;\n",
              "    }\n",
              "\n",
              "    .dataframe thead th {\n",
              "        text-align: right;\n",
              "    }\n",
              "</style>\n",
              "<table border=\"1\" class=\"dataframe\">\n",
              "  <thead>\n",
              "    <tr style=\"text-align: right;\">\n",
              "      <th></th>\n",
              "      <th>__label__</th>\n",
              "      <th>tweets</th>\n",
              "    </tr>\n",
              "  </thead>\n",
              "  <tbody>\n",
              "    <tr>\n",
              "      <th>0</th>\n",
              "      <td>__label__Right</td>\n",
              "      <td>problema risolve rinviando primavera vorrebbe ...</td>\n",
              "    </tr>\n",
              "    <tr>\n",
              "      <th>1</th>\n",
              "      <td>__label__Left</td>\n",
              "      <td>_lica _ _xy _piu_smocci _g _lica _ _xy _piu_sm...</td>\n",
              "    </tr>\n",
              "    <tr>\n",
              "      <th>3</th>\n",
              "      <td>__label__Right</td>\n",
              "      <td>gioved\\xc3\\xac 5 dicembre repubblica impuniti ...</td>\n",
              "    </tr>\n",
              "    <tr>\n",
              "      <th>4</th>\n",
              "      <td>__label__Left</td>\n",
              "      <td>gran bretagna paese pi ricco industrializzato ...</td>\n",
              "    </tr>\n",
              "    <tr>\n",
              "      <th>6</th>\n",
              "      <td>__label__Right</td>\n",
              "      <td>parole parassiti complimenti capitano molto be...</td>\n",
              "    </tr>\n",
              "  </tbody>\n",
              "</table>\n",
              "</div>"
            ],
            "text/plain": [
              "        __label__                                             tweets\n",
              "0  __label__Right  problema risolve rinviando primavera vorrebbe ...\n",
              "1   __label__Left  _lica _ _xy _piu_smocci _g _lica _ _xy _piu_sm...\n",
              "3  __label__Right  gioved\\xc3\\xac 5 dicembre repubblica impuniti ...\n",
              "4   __label__Left  gran bretagna paese pi ricco industrializzato ...\n",
              "6  __label__Right  parole parassiti complimenti capitano molto be..."
            ]
          },
          "metadata": {
            "tags": []
          },
          "execution_count": 7
        }
      ]
    },
    {
      "cell_type": "code",
      "metadata": {
        "id": "Ia0ytOWHgPTx",
        "colab_type": "code",
        "outputId": "3d79c09a-ac1b-4b91-be6c-d155156a4f38",
        "colab": {
          "base_uri": "https://localhost:8080/",
          "height": 34
        }
      },
      "source": [
        "import pandas as pd\n",
        "from sklearn.model_selection import train_test_split\n",
        "from sklearn.linear_model import LogisticRegression\n",
        "from sklearn.feature_extraction.text import CountVectorizer,TfidfVectorizer\n",
        "\n",
        "training_data, testing_data = train_test_split(df,random_state = 2000)\n",
        "Y_train=training_data['__label__']\n",
        "Y_test=testing_data['__label__']\n",
        "X_train=training_data['tweets']\n",
        "X_test=testing_data['tweets']\n",
        "field='tweets'\n",
        "field"
      ],
      "execution_count": 13,
      "outputs": [
        {
          "output_type": "execute_result",
          "data": {
            "text/plain": [
              "'tweets'"
            ]
          },
          "metadata": {
            "tags": []
          },
          "execution_count": 13
        }
      ]
    },
    {
      "cell_type": "code",
      "metadata": {
        "id": "52IPfWkT2b3h",
        "colab_type": "code",
        "outputId": "6bcec362-9f14-41d3-99f6-432792828dee",
        "colab": {
          "base_uri": "https://localhost:8080/",
          "height": 221
        }
      },
      "source": [
        "print(X_test)"
      ],
      "execution_count": 9,
      "outputs": [
        {
          "output_type": "stream",
          "text": [
            "3034    leggo difende contante adduce ragione \\xe2\\x80...\n",
            "162     potrei accenderti riscaldamento forno fusorio ...\n",
            "2691    _piu_smocci quando dx sx battista rotta coglio...\n",
            "3258    voce persone raccontare natura emergere grandi...\n",
            "376     crolla parte viadotto sullautostrada altezza m...\n",
            "                              ...                        \n",
            "2310    apoteosi nonsense vorrebbero impedirti vedere ...\n",
            "1219    stato incubo marito grasso crescano pure poi e...\n",
            "1153    piombino conferisce cittadinanza onoraria lili...\n",
            "3172    aggirare divieti fascisti spostati social netw...\n",
            "757     _imerub confermo sottoscrivo giustamente qualc...\n",
            "Name: tweets, Length: 550, dtype: object\n"
          ],
          "name": "stdout"
        }
      ]
    },
    {
      "cell_type": "code",
      "metadata": {
        "id": "AtA4kjp-d-GX",
        "colab_type": "code",
        "colab": {}
      },
      "source": [
        "def extract_features(df,field,training_data,testing_data,type=\"binary\"):\n",
        "  if \"binary\" in type:\n",
        "        # BINARY FEATURE REPRESENTATION\n",
        "        cv= CountVectorizer(binary=True, max_df=0.95)\n",
        "        cv.fit_transform(training_data[field].values)\n",
        "        \n",
        "        train_feature_set=cv.transform(training_data[field].values)\n",
        "        test_feature_set=cv.transform(testing_data[field].values)\n",
        "        \n",
        "        return train_feature_set, test_feature_set, cv\n",
        "   \n",
        "  elif \"counts\" in type:\n",
        "        # COUNT BASED FEATURE REPRESENTATION\n",
        "        cv= CountVectorizer(binary=False, max_df=0.95)\n",
        "        cv.fit_transform(training_data[field].values)\n",
        "        \n",
        "        train_feature_set=cv.transform(training_data[field].values)\n",
        "        test_feature_set=cv.transform(testing_data[field].values)\n",
        "        \n",
        "        return train_feature_set,test_feature_set,cv\n",
        "    \n",
        "  else:    \n",
        "        \n",
        "        # TF-IDF BASED FEATURE REPRESENTATION\n",
        "        tfidf_vectorizer=TfidfVectorizer(use_idf=True, max_df=0.95)\n",
        "        tfidf_vectorizer.fit_transform(training_data[field].values)\n",
        "        \n",
        "        train_feature_set=tfidf_vectorizer.transform(training_data[field].values)\n",
        "        test_feature_set=tfidf_vectorizer.transform(testing_data[field].values)\n",
        "        \n",
        "        return train_feature_set,test_feature_set,tfidf_vectorizer\n",
        "  \n",
        "    \n",
        "   "
      ],
      "execution_count": 0,
      "outputs": []
    },
    {
      "cell_type": "code",
      "metadata": {
        "id": "WFsYqBrZhjjf",
        "colab_type": "code",
        "colab": {}
      },
      "source": [
        " X_train,X_test,feature_transformer = extract_features(df, field,training_data,testing_data, type=\"counts\")\n",
        "    "
      ],
      "execution_count": 0,
      "outputs": []
    },
    {
      "cell_type": "code",
      "metadata": {
        "id": "J9RTWUNlpSKY",
        "colab_type": "code",
        "colab": {}
      },
      "source": [
        "scikit_log_reg = LogisticRegression(verbose=1, solver='liblinear',random_state=0, C=5, penalty='l2',max_iter=1000)"
      ],
      "execution_count": 0,
      "outputs": []
    },
    {
      "cell_type": "code",
      "metadata": {
        "id": "-o_kvUDbpbHK",
        "colab_type": "code",
        "outputId": "efa53656-df54-41b5-b206-785534dcd4ec",
        "colab": {
          "base_uri": "https://localhost:8080/",
          "height": 34
        }
      },
      "source": [
        "model=scikit_log_reg.fit(X_train,Y_train)"
      ],
      "execution_count": 22,
      "outputs": [
        {
          "output_type": "stream",
          "text": [
            "[LibLinear]"
          ],
          "name": "stdout"
        }
      ]
    },
    {
      "cell_type": "code",
      "metadata": {
        "id": "8iJFJhR23w0V",
        "colab_type": "code",
        "outputId": "33aefde5-6b7d-45e1-af30-93be1d0b18e3",
        "colab": {
          "base_uri": "https://localhost:8080/",
          "height": 34
        }
      },
      "source": [
        "model.score(X_test,Y_test)\n",
        "#Note that the model score is obtained training the algorithm with 'counts' method\n",
        "#if we use binary we obtain a 84%accuracy \n",
        "#If we use TfIdf we obtain a 79%accuracy\n"
      ],
      "execution_count": 23,
      "outputs": [
        {
          "output_type": "execute_result",
          "data": {
            "text/plain": [
              "0.7945454545454546"
            ]
          },
          "metadata": {
            "tags": []
          },
          "execution_count": 23
        }
      ]
    },
    {
      "cell_type": "code",
      "metadata": {
        "id": "ryew6Aq3Y9HN",
        "colab_type": "code",
        "colab": {}
      },
      "source": [
        "#Needed to import m5s dataframe\n",
        "from googleapiclient.discovery import build\n",
        "drive_service = build('drive', 'v3')\n",
        "\n",
        "import io\n",
        "import pickle\n",
        "from googleapiclient.http import MediaIoBaseDownload\n",
        "\n",
        "file_id = '1mt5-OWZPJkcSJDI84MnIluB6iIEEoosL'\n",
        "\n",
        "request = drive_service.files().get_media(fileId=file_id)\n",
        "downloaded = io.BytesIO()\n",
        "downloader = MediaIoBaseDownload(downloaded, request)\n",
        "done = False\n",
        "while done is False:\n",
        "    # _ is a placeholder for a progress object that we ignore.\n",
        "    # (Our file is small, so we skip reporting progress.)\n",
        "    _, done = downloader.next_chunk()\n",
        "\n",
        "downloaded.seek(0)\n",
        "cinques=pickle.load(downloaded)"
      ],
      "execution_count": 0,
      "outputs": []
    },
    {
      "cell_type": "code",
      "metadata": {
        "id": "0yYyQcxOY-qw",
        "colab_type": "code",
        "colab": {
          "base_uri": "https://localhost:8080/",
          "height": 204
        },
        "outputId": "c39b23c5-47f9-406f-8f26-63927ba5ba34"
      },
      "source": [
        "cinques.head()"
      ],
      "execution_count": 25,
      "outputs": [
        {
          "output_type": "execute_result",
          "data": {
            "text/html": [
              "<div>\n",
              "<style scoped>\n",
              "    .dataframe tbody tr th:only-of-type {\n",
              "        vertical-align: middle;\n",
              "    }\n",
              "\n",
              "    .dataframe tbody tr th {\n",
              "        vertical-align: top;\n",
              "    }\n",
              "\n",
              "    .dataframe thead th {\n",
              "        text-align: right;\n",
              "    }\n",
              "</style>\n",
              "<table border=\"1\" class=\"dataframe\">\n",
              "  <thead>\n",
              "    <tr style=\"text-align: right;\">\n",
              "      <th></th>\n",
              "      <th>_label</th>\n",
              "      <th>tweets</th>\n",
              "    </tr>\n",
              "  </thead>\n",
              "  <tbody>\n",
              "    <tr>\n",
              "      <th>0</th>\n",
              "      <td>label_5s</td>\n",
              "      <td>chiesto documento aprire profilo potuto tormen...</td>\n",
              "    </tr>\n",
              "    <tr>\n",
              "      <th>1</th>\n",
              "      <td>label_5s</td>\n",
              "      <td>grillino confessa cognome beh dipende verament...</td>\n",
              "    </tr>\n",
              "    <tr>\n",
              "      <th>2</th>\n",
              "      <td>label_5s</td>\n",
              "      <td>malties people forced prime minister resign vi...</td>\n",
              "    </tr>\n",
              "    <tr>\n",
              "      <th>3</th>\n",
              "      <td>label_5s</td>\n",
              "      <td>vendicare perch determinato crisi prosit baron...</td>\n",
              "    </tr>\n",
              "    <tr>\n",
              "      <th>4</th>\n",
              "      <td>label_5s</td>\n",
              "      <td>spero vi uoso amministrazione rigenerazione ma...</td>\n",
              "    </tr>\n",
              "  </tbody>\n",
              "</table>\n",
              "</div>"
            ],
            "text/plain": [
              "     _label                                             tweets\n",
              "0  label_5s  chiesto documento aprire profilo potuto tormen...\n",
              "1  label_5s  grillino confessa cognome beh dipende verament...\n",
              "2  label_5s  malties people forced prime minister resign vi...\n",
              "3  label_5s  vendicare perch determinato crisi prosit baron...\n",
              "4  label_5s  spero vi uoso amministrazione rigenerazione ma..."
            ]
          },
          "metadata": {
            "tags": []
          },
          "execution_count": 25
        }
      ]
    },
    {
      "cell_type": "code",
      "metadata": {
        "id": "9TnScNAoS-_y",
        "colab_type": "code",
        "colab": {
          "base_uri": "https://localhost:8080/",
          "height": 221
        },
        "outputId": "8f8acf00-f373-4754-90da-d1542b6cd0db"
      },
      "source": [
        "#Set the tweets of dataframe as array to test the 5s profiles\n",
        "X5_test=cinques['tweets']\n",
        "print(X5_test)"
      ],
      "execution_count": 26,
      "outputs": [
        {
          "output_type": "stream",
          "text": [
            "0      chiesto documento aprire profilo potuto tormen...\n",
            "1      grillino confessa cognome beh dipende verament...\n",
            "2      malties people forced prime minister resign vi...\n",
            "3      vendicare perch determinato crisi prosit baron...\n",
            "4      spero vi uoso amministrazione rigenerazione ma...\n",
            "                             ...                        \n",
            "198    disse magistratura cancro attacco pi subdolo p...\n",
            "199    @ circomassimo sensate fatti bonafede battagli...\n",
            "200    reddito cittadinanza libera erogazione stranie...\n",
            "201    gaml action depends actions intentions speakin...\n",
            "202    piove dirotto scricchiolio pochi simil volpino...\n",
            "Name: tweets, Length: 203, dtype: object\n"
          ],
          "name": "stdout"
        }
      ]
    },
    {
      "cell_type": "code",
      "metadata": {
        "id": "DxH6rGWvTHLT",
        "colab_type": "code",
        "colab": {}
      },
      "source": [
        "#Let's transform the Tweets with the funciton that makes it suitable for do predictions\n",
        "#Don't forget that the model is trained on left and right profile\n",
        "#Using 'counts' \n",
        "\n",
        "X5_test,X5_train,feature_transformer = extract_features(cinques, field,training_data,testing_data, type=\"counts\")\n"
      ],
      "execution_count": 0,
      "outputs": []
    },
    {
      "cell_type": "code",
      "metadata": {
        "id": "XJrkK0lsUHFY",
        "colab_type": "code",
        "outputId": "0ddb6fc9-083a-4f07-fa11-3d87a619d723",
        "colab": {
          "base_uri": "https://localhost:8080/",
          "height": 68
        }
      },
      "source": [
        "tested=model.predict(X5_test)\n",
        "print(tested)\n"
      ],
      "execution_count": 30,
      "outputs": [
        {
          "output_type": "stream",
          "text": [
            "['__label__Left' '__label__Left' '__label__Left' ... '__label__Right'\n",
            " '__label__Right' '__label__Right']\n"
          ],
          "name": "stdout"
        },
        {
          "output_type": "execute_result",
          "data": {
            "text/plain": [
              "1650"
            ]
          },
          "metadata": {
            "tags": []
          },
          "execution_count": 30
        }
      ]
    },
    {
      "cell_type": "code",
      "metadata": {
        "id": "LJvXH2hmWNhx",
        "colab_type": "code",
        "colab": {}
      },
      "source": [
        "sx=0\n",
        "dx=0\n",
        "for i in np.arange(len(tested)):\n",
        "  if tested[i]=='__label__Left' : sx=sx+1\n",
        "  else : dx=dx+1"
      ],
      "execution_count": 0,
      "outputs": []
    },
    {
      "cell_type": "code",
      "metadata": {
        "id": "rmwACYhDXZX8",
        "colab_type": "code",
        "outputId": "fbdc13be-64d9-4224-a8bb-4e845ede91df",
        "colab": {
          "base_uri": "https://localhost:8080/",
          "height": 34
        }
      },
      "source": [
        "print(sx,dx)"
      ],
      "execution_count": 0,
      "outputs": [
        {
          "output_type": "stream",
          "text": [
            "831 819\n"
          ],
          "name": "stdout"
        }
      ]
    },
    {
      "cell_type": "code",
      "metadata": {
        "id": "uwXknwmTZv3k",
        "colab_type": "code",
        "colab": {}
      },
      "source": [
        "#Let's transform the Tweets with the funciton that makes it suitable for do predictions\n",
        "#Don't forget that the model is trained on left and right profile\n",
        "#Using 'binary' method \n",
        "X5_test,X5_train,feature_transformer = extract_features(cinques, field,training_data,testing_data, type=\"binary\")\n"
      ],
      "execution_count": 0,
      "outputs": []
    },
    {
      "cell_type": "code",
      "metadata": {
        "id": "JjUPTiWYZy7E",
        "colab_type": "code",
        "outputId": "13199272-58c8-481b-ee2a-398df59a9cd8",
        "colab": {
          "base_uri": "https://localhost:8080/",
          "height": 51
        }
      },
      "source": [
        "tested=model.predict(X5_test)\n",
        "print(tested)"
      ],
      "execution_count": 0,
      "outputs": [
        {
          "output_type": "stream",
          "text": [
            "['__label__Left' '__label__Left' '__label__Left' ... '__label__Right'\n",
            " '__label__Right' '__label__Left']\n"
          ],
          "name": "stdout"
        }
      ]
    },
    {
      "cell_type": "code",
      "metadata": {
        "id": "Saz071h_Z1Ob",
        "colab_type": "code",
        "colab": {}
      },
      "source": [
        "sx=0\n",
        "dx=0\n",
        "for i in np.arange(len(tested)):\n",
        "  if tested[i]=='__label__Left' : sx=sx+1\n",
        "  else : dx=dx+1"
      ],
      "execution_count": 0,
      "outputs": []
    },
    {
      "cell_type": "code",
      "metadata": {
        "id": "OhSNWNsGZ3is",
        "colab_type": "code",
        "outputId": "8f80c49a-4896-4f2a-c554-4f1ae9372bad",
        "colab": {
          "base_uri": "https://localhost:8080/",
          "height": 34
        }
      },
      "source": [
        "print(sx,dx)"
      ],
      "execution_count": 0,
      "outputs": [
        {
          "output_type": "stream",
          "text": [
            "1055 595\n"
          ],
          "name": "stdout"
        }
      ]
    },
    {
      "cell_type": "code",
      "metadata": {
        "id": "jNC0S_E7aMWG",
        "colab_type": "code",
        "colab": {}
      },
      "source": [
        "#Let's transform the Tweets with the funciton that makes it suitable for do predictions\n",
        "#Don't forget that the model is trained on left and right profile\n",
        "#Using 'counts' method of tfidf\n",
        "X5_test,X5_train,feature_transformer = extract_features(cinques, field,training_data,testing_data, type='no')\n"
      ],
      "execution_count": 0,
      "outputs": []
    },
    {
      "cell_type": "code",
      "metadata": {
        "id": "68hIvDINaSHF",
        "colab_type": "code",
        "outputId": "27cb98bc-a478-4bde-f5ac-fa990d1d6300",
        "colab": {
          "base_uri": "https://localhost:8080/",
          "height": 51
        }
      },
      "source": [
        "tested=model.predict(X5_test)\n",
        "print(tested)"
      ],
      "execution_count": 0,
      "outputs": [
        {
          "output_type": "stream",
          "text": [
            "['__label__Right' '__label__Right' '__label__Right' ... '__label__Right'\n",
            " '__label__Right' '__label__Right']\n"
          ],
          "name": "stdout"
        }
      ]
    },
    {
      "cell_type": "code",
      "metadata": {
        "id": "_ZtH6tZhaWOd",
        "colab_type": "code",
        "colab": {}
      },
      "source": [
        "sx=0\n",
        "dx=0\n",
        "for i in np.arange(len(tested)):\n",
        "  if tested[i]=='__label__Left' : sx=sx+1\n",
        "  else : dx=dx+1"
      ],
      "execution_count": 0,
      "outputs": []
    },
    {
      "cell_type": "code",
      "metadata": {
        "id": "LOPsLWGTaX65",
        "colab_type": "code",
        "outputId": "aab207b1-fc6e-4192-9957-48141524472f",
        "colab": {
          "base_uri": "https://localhost:8080/",
          "height": 34
        }
      },
      "source": [
        "print(sx,dx)"
      ],
      "execution_count": 0,
      "outputs": [
        {
          "output_type": "stream",
          "text": [
            "0 1650\n"
          ],
          "name": "stdout"
        }
      ]
    }
  ]
}