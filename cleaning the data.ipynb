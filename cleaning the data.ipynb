{
 "cells": [
  {
   "cell_type": "markdown",
   "metadata": {},
   "source": [
    "# Import the dataframe"
   ]
  },
  {
   "cell_type": "code",
   "execution_count": 11,
   "metadata": {},
   "outputs": [],
   "source": [
    "import pandas as pd \n",
    "base_df = pd.read_pickle(\"base_df.pkl\")"
   ]
  },
  {
   "cell_type": "code",
   "execution_count": 12,
   "metadata": {},
   "outputs": [],
   "source": [
    "#Remove elements from the dataframe\n",
    "base_df = base_df[base_df.loc[:,'__label__']!='__label__Unknown']"
   ]
  },
  {
   "cell_type": "code",
   "execution_count": 13,
   "metadata": {},
   "outputs": [],
   "source": [
    "dataframe = base_df"
   ]
  },
  {
   "cell_type": "code",
   "execution_count": 14,
   "metadata": {},
   "outputs": [
    {
     "data": {
      "text/html": [
       "<div>\n",
       "<style scoped>\n",
       "    .dataframe tbody tr th:only-of-type {\n",
       "        vertical-align: middle;\n",
       "    }\n",
       "\n",
       "    .dataframe tbody tr th {\n",
       "        vertical-align: top;\n",
       "    }\n",
       "\n",
       "    .dataframe thead th {\n",
       "        text-align: right;\n",
       "    }\n",
       "</style>\n",
       "<table border=\"1\" class=\"dataframe\">\n",
       "  <thead>\n",
       "    <tr style=\"text-align: right;\">\n",
       "      <th></th>\n",
       "      <th>__label__</th>\n",
       "      <th>tweets</th>\n",
       "    </tr>\n",
       "  </thead>\n",
       "  <tbody>\n",
       "    <tr>\n",
       "      <th>0</th>\n",
       "      <td>__label__Right</td>\n",
       "      <td>RT @luigivanti: Il problema non si risolve rin...</td>\n",
       "    </tr>\n",
       "    <tr>\n",
       "      <th>1</th>\n",
       "      <td>__label__Left</td>\n",
       "      <td>@Ire_Lica @salvinimi @DarioSegreto_ @maddale...</td>\n",
       "    </tr>\n",
       "    <tr>\n",
       "      <th>3</th>\n",
       "      <td>__label__Right</td>\n",
       "      <td>b'RT @petergomezblog: Da gioved\\xc3\\xac 5 dice...</td>\n",
       "    </tr>\n",
       "    <tr>\n",
       "      <th>4</th>\n",
       "      <td>__label__Left</td>\n",
       "      <td>RT @RaiStoria: La Gran Bretagna è il paese p...</td>\n",
       "    </tr>\n",
       "    <tr>\n",
       "      <th>6</th>\n",
       "      <td>__label__Right</td>\n",
       "      <td>@BelpietroTweet ......senza parole...parassiti...</td>\n",
       "    </tr>\n",
       "  </tbody>\n",
       "</table>\n",
       "</div>"
      ],
      "text/plain": [
       "        __label__                                             tweets\n",
       "0  __label__Right  RT @luigivanti: Il problema non si risolve rin...\n",
       "1   __label__Left    @Ire_Lica @salvinimi @DarioSegreto_ @maddale...\n",
       "3  __label__Right  b'RT @petergomezblog: Da gioved\\xc3\\xac 5 dice...\n",
       "4   __label__Left    RT @RaiStoria: La Gran Bretagna è il paese p...\n",
       "6  __label__Right  @BelpietroTweet ......senza parole...parassiti..."
      ]
     },
     "execution_count": 14,
     "metadata": {},
     "output_type": "execute_result"
    }
   ],
   "source": [
    "#Dataframe\n",
    "dataframe.head()"
   ]
  },
  {
   "cell_type": "markdown",
   "metadata": {},
   "source": [
    "# Cleaning the data"
   ]
  },
  {
   "cell_type": "code",
   "execution_count": 15,
   "metadata": {},
   "outputs": [],
   "source": [
    "#Remove html tags\n",
    "from bs4 import BeautifulSoup\n",
    "\n",
    "base_df[\"tweets\"]=base_df[\"tweets\"].apply(lambda s: BeautifulSoup(s).get_text())"
   ]
  },
  {
   "cell_type": "code",
   "execution_count": 16,
   "metadata": {},
   "outputs": [],
   "source": [
    "#Remove hashtags and mentions\n",
    "import re\n",
    "base_df[\"tweets\"]=base_df[\"tweets\"].apply(lambda s: ' '.join(re.sub(\"(@[A-Za-z0-9]+)|(#[A-Za-z0-9]+)\", \" \", s).split()))\n"
   ]
  },
  {
   "cell_type": "code",
   "execution_count": 17,
   "metadata": {},
   "outputs": [
    {
     "data": {
      "text/html": [
       "<div>\n",
       "<style scoped>\n",
       "    .dataframe tbody tr th:only-of-type {\n",
       "        vertical-align: middle;\n",
       "    }\n",
       "\n",
       "    .dataframe tbody tr th {\n",
       "        vertical-align: top;\n",
       "    }\n",
       "\n",
       "    .dataframe thead th {\n",
       "        text-align: right;\n",
       "    }\n",
       "</style>\n",
       "<table border=\"1\" class=\"dataframe\">\n",
       "  <thead>\n",
       "    <tr style=\"text-align: right;\">\n",
       "      <th></th>\n",
       "      <th>__label__</th>\n",
       "      <th>tweets</th>\n",
       "    </tr>\n",
       "  </thead>\n",
       "  <tbody>\n",
       "    <tr>\n",
       "      <th>0</th>\n",
       "      <td>__label__Right</td>\n",
       "      <td>RT : Il problema non si risolve rinviando il a...</td>\n",
       "    </tr>\n",
       "    <tr>\n",
       "      <th>1</th>\n",
       "      <td>__label__Left</td>\n",
       "      <td>_Lica _ _xy _piu_smocci _g 😂😂😁😁 _Lica _ _xy _p...</td>\n",
       "    </tr>\n",
       "    <tr>\n",
       "      <th>3</th>\n",
       "      <td>__label__Right</td>\n",
       "      <td>b'RT : Da gioved\\xc3\\xac 5 dicembre su https:/...</td>\n",
       "    </tr>\n",
       "    <tr>\n",
       "      <th>4</th>\n",
       "      <td>__label__Left</td>\n",
       "      <td>RT : La Gran Bretagna è il paese più ricco e i...</td>\n",
       "    </tr>\n",
       "    <tr>\n",
       "      <th>6</th>\n",
       "      <td>__label__Right</td>\n",
       "      <td>......senza parole...parassiti !! https://t.co...</td>\n",
       "    </tr>\n",
       "  </tbody>\n",
       "</table>\n",
       "</div>"
      ],
      "text/plain": [
       "        __label__                                             tweets\n",
       "0  __label__Right  RT : Il problema non si risolve rinviando il a...\n",
       "1   __label__Left  _Lica _ _xy _piu_smocci _g 😂😂😁😁 _Lica _ _xy _p...\n",
       "3  __label__Right  b'RT : Da gioved\\xc3\\xac 5 dicembre su https:/...\n",
       "4   __label__Left  RT : La Gran Bretagna è il paese più ricco e i...\n",
       "6  __label__Right  ......senza parole...parassiti !! https://t.co..."
      ]
     },
     "execution_count": 17,
     "metadata": {},
     "output_type": "execute_result"
    }
   ],
   "source": [
    "base_df.head()"
   ]
  },
  {
   "cell_type": "code",
   "execution_count": 18,
   "metadata": {},
   "outputs": [],
   "source": [
    "#Remove urls\n",
    "base_df[\"tweets\"]=base_df[\"tweets\"].apply(lambda s: ' '.join(re.sub(\"(\\w+:\\/\\/\\S+)\", \" \", s).split()))"
   ]
  },
  {
   "cell_type": "code",
   "execution_count": 19,
   "metadata": {},
   "outputs": [],
   "source": [
    "#Remove emoji \n",
    "def deEmojify(inputString):\n",
    "    return inputString.encode('ascii', 'ignore').decode('ascii')\n",
    "\n",
    "base_df[\"tweets\"] = base_df[\"tweets\"].apply(lambda s: deEmojify(s))"
   ]
  },
  {
   "cell_type": "code",
   "execution_count": 20,
   "metadata": {},
   "outputs": [],
   "source": [
    "#Remove numbers\n",
    "base_df[\"tweets\"]=base_df[\"tweets\"].apply(lambda s: ' '.join(re.sub(\"^\\d+\\s|\\s\\d+\\s|\\s\\d+$\", \" \", s).split()))"
   ]
  },
  {
   "cell_type": "code",
   "execution_count": 21,
   "metadata": {},
   "outputs": [],
   "source": [
    "#Remove punctuations\n",
    "base_df[\"tweets\"]=base_df[\"tweets\"].apply(lambda s: ' '.join(re.sub(\"[\\.\\,\\!\\_\\?\\:\\;\\-\\=\\'\\...\\\"]\", \" \", s).split()))"
   ]
  },
  {
   "cell_type": "code",
   "execution_count": 22,
   "metadata": {},
   "outputs": [
    {
     "data": {
      "text/html": [
       "<div>\n",
       "<style scoped>\n",
       "    .dataframe tbody tr th:only-of-type {\n",
       "        vertical-align: middle;\n",
       "    }\n",
       "\n",
       "    .dataframe tbody tr th {\n",
       "        vertical-align: top;\n",
       "    }\n",
       "\n",
       "    .dataframe thead th {\n",
       "        text-align: right;\n",
       "    }\n",
       "</style>\n",
       "<table border=\"1\" class=\"dataframe\">\n",
       "  <thead>\n",
       "    <tr style=\"text-align: right;\">\n",
       "      <th></th>\n",
       "      <th>__label__</th>\n",
       "      <th>tweets</th>\n",
       "    </tr>\n",
       "  </thead>\n",
       "  <tbody>\n",
       "    <tr>\n",
       "      <th>0</th>\n",
       "      <td>__label__Right</td>\n",
       "      <td>RT Il problema non si risolve rinviando il a q...</td>\n",
       "    </tr>\n",
       "    <tr>\n",
       "      <th>1</th>\n",
       "      <td>__label__Left</td>\n",
       "      <td>Lica xy piu smocci g Lica xy piu smocci g Dire...</td>\n",
       "    </tr>\n",
       "    <tr>\n",
       "      <th>3</th>\n",
       "      <td>__label__Right</td>\n",
       "      <td>b RT Da gioved\\xc3\\xac dicembre su La repubbli...</td>\n",
       "    </tr>\n",
       "    <tr>\n",
       "      <th>4</th>\n",
       "      <td>__label__Left</td>\n",
       "      <td>RT La Gran Bretagna il paese pi ricco e indust...</td>\n",
       "    </tr>\n",
       "    <tr>\n",
       "      <th>6</th>\n",
       "      <td>__label__Right</td>\n",
       "      <td>senza parole parassiti Complimenti Capitano mo...</td>\n",
       "    </tr>\n",
       "  </tbody>\n",
       "</table>\n",
       "</div>"
      ],
      "text/plain": [
       "        __label__                                             tweets\n",
       "0  __label__Right  RT Il problema non si risolve rinviando il a q...\n",
       "1   __label__Left  Lica xy piu smocci g Lica xy piu smocci g Dire...\n",
       "3  __label__Right  b RT Da gioved\\xc3\\xac dicembre su La repubbli...\n",
       "4   __label__Left  RT La Gran Bretagna il paese pi ricco e indust...\n",
       "6  __label__Right  senza parole parassiti Complimenti Capitano mo..."
      ]
     },
     "execution_count": 22,
     "metadata": {},
     "output_type": "execute_result"
    }
   ],
   "source": [
    "base_df.head()"
   ]
  },
  {
   "cell_type": "code",
   "execution_count": 23,
   "metadata": {},
   "outputs": [],
   "source": [
    "#Lower case\n",
    "base_df[\"tweets\"] = base_df[\"tweets\"].apply(lambda s: s.lower())"
   ]
  },
  {
   "cell_type": "code",
   "execution_count": 24,
   "metadata": {},
   "outputs": [
    {
     "data": {
      "text/html": [
       "<div>\n",
       "<style scoped>\n",
       "    .dataframe tbody tr th:only-of-type {\n",
       "        vertical-align: middle;\n",
       "    }\n",
       "\n",
       "    .dataframe tbody tr th {\n",
       "        vertical-align: top;\n",
       "    }\n",
       "\n",
       "    .dataframe thead th {\n",
       "        text-align: right;\n",
       "    }\n",
       "</style>\n",
       "<table border=\"1\" class=\"dataframe\">\n",
       "  <thead>\n",
       "    <tr style=\"text-align: right;\">\n",
       "      <th></th>\n",
       "      <th>__label__</th>\n",
       "      <th>tweets</th>\n",
       "    </tr>\n",
       "  </thead>\n",
       "  <tbody>\n",
       "    <tr>\n",
       "      <th>0</th>\n",
       "      <td>__label__Right</td>\n",
       "      <td>rt il problema non si risolve rinviando il a q...</td>\n",
       "    </tr>\n",
       "    <tr>\n",
       "      <th>1</th>\n",
       "      <td>__label__Left</td>\n",
       "      <td>lica xy piu smocci g lica xy piu smocci g dire...</td>\n",
       "    </tr>\n",
       "    <tr>\n",
       "      <th>3</th>\n",
       "      <td>__label__Right</td>\n",
       "      <td>b rt da gioved\\xc3\\xac dicembre su la repubbli...</td>\n",
       "    </tr>\n",
       "    <tr>\n",
       "      <th>4</th>\n",
       "      <td>__label__Left</td>\n",
       "      <td>rt la gran bretagna il paese pi ricco e indust...</td>\n",
       "    </tr>\n",
       "    <tr>\n",
       "      <th>6</th>\n",
       "      <td>__label__Right</td>\n",
       "      <td>senza parole parassiti complimenti capitano mo...</td>\n",
       "    </tr>\n",
       "  </tbody>\n",
       "</table>\n",
       "</div>"
      ],
      "text/plain": [
       "        __label__                                             tweets\n",
       "0  __label__Right  rt il problema non si risolve rinviando il a q...\n",
       "1   __label__Left  lica xy piu smocci g lica xy piu smocci g dire...\n",
       "3  __label__Right  b rt da gioved\\xc3\\xac dicembre su la repubbli...\n",
       "4   __label__Left  rt la gran bretagna il paese pi ricco e indust...\n",
       "6  __label__Right  senza parole parassiti complimenti capitano mo..."
      ]
     },
     "execution_count": 24,
     "metadata": {},
     "output_type": "execute_result"
    }
   ],
   "source": [
    "base_df.head()"
   ]
  },
  {
   "cell_type": "code",
   "execution_count": 26,
   "metadata": {},
   "outputs": [],
   "source": [
    "#Import stopwords\n",
    "stop_words=pd.read_csv('stop_words.csv')\n",
    "stop_words=list(stop_words.iloc[:,1])"
   ]
  },
  {
   "cell_type": "code",
   "execution_count": 27,
   "metadata": {},
   "outputs": [],
   "source": [
    "stop_words.append(' rt ')\n",
    "stop_words.append('rt ')\n",
    "stop_words.append('ahahaha')\n",
    "stop_words.append('xy')"
   ]
  },
  {
   "cell_type": "code",
   "execution_count": 28,
   "metadata": {},
   "outputs": [
    {
     "name": "stdout",
     "output_type": "stream",
     "text": [
      "4004\n"
     ]
    }
   ],
   "source": [
    "print(len(stop_words))"
   ]
  },
  {
   "cell_type": "code",
   "execution_count": 29,
   "metadata": {},
   "outputs": [],
   "source": [
    "#Code to remove noisy words from a text\n",
    "def _remove_noise(input_text):\n",
    "    words = input_text.split()\n",
    "    noise_free_words = [word for word in words if word not in stop_words] \n",
    "    noise_free_text = \" \".join(noise_free_words) \n",
    "    return noise_free_text"
   ]
  },
  {
   "cell_type": "code",
   "execution_count": null,
   "metadata": {},
   "outputs": [],
   "source": [
    "#Remove stopwords\n",
    "base_df[\"tweets\"] = base_df[\"tweets\"].apply(lambda s: _remove_noise(s))"
   ]
  },
  {
   "cell_type": "code",
   "execution_count": null,
   "metadata": {},
   "outputs": [],
   "source": [
    "base_df[\"tweets\"]=base_df[\"tweets\"].replace(\"\\\\xe2\\\\x80\\\\xa6\",\"\")\n",
    "base_df[\"tweets\"]=base_df[\"tweets\"].replace(\"\\\\xe2\\\\x80\\\\x80\",\"\")\n",
    "base_df[\"tweets\"]=base_df[\"tweets\"].replace(\"\\\\xc3\\\\xac\",\"\")\n",
    "base_df[\"tweets\"]=base_df[\"tweets\"].replace(\"\\\\xe2\\\\x80\\\\x98\",\"\")\n",
    "base_df[\"tweets\"]=base_df[\"tweets\"].replace(\"\\\\xe2\\\\x80\\\\xa6\",\"\")"
   ]
  },
  {
   "cell_type": "code",
   "execution_count": null,
   "metadata": {},
   "outputs": [],
   "source": [
    "base_df[\"tweets\"]=base_df[\"tweets\"].apply(lambda s: ' '.join(re.sub(\"[0-9]\", \" \", s).split()))"
   ]
  },
  {
   "cell_type": "code",
   "execution_count": null,
   "metadata": {},
   "outputs": [],
   "source": [
    "base_df[\"tweets\"]=base_df[\"tweets\"].apply(lambda s: ' '.join(re.sub(\"xc\", \" \", s).split()))"
   ]
  },
  {
   "cell_type": "code",
   "execution_count": null,
   "metadata": {},
   "outputs": [],
   "source": [
    "base_df[\"tweets\"]=base_df[\"tweets\"].apply(lambda s: ' '.join(re.sub(\"xac\", \" \", s).split()))\n",
    "base_df[\"tweets\"]=base_df[\"tweets\"].apply(lambda s: ' '.join(re.sub(\"xa\", \" \", s).split()))"
   ]
  },
  {
   "cell_type": "code",
   "execution_count": null,
   "metadata": {},
   "outputs": [],
   "source": [
    "base_df[\"tweets\"]=base_df[\"tweets\"].apply(lambda s: ' '.join(re.sub(\" rt \", \" \", s).split()))"
   ]
  },
  {
   "cell_type": "code",
   "execution_count": null,
   "metadata": {},
   "outputs": [],
   "source": [
    "dataframe = base_df"
   ]
  },
  {
   "cell_type": "code",
   "execution_count": null,
   "metadata": {},
   "outputs": [],
   "source": [
    "dataframe.head()"
   ]
  }
 ],
 "metadata": {
  "kernelspec": {
   "display_name": "Python 3",
   "language": "python",
   "name": "python3"
  },
  "language_info": {
   "codemirror_mode": {
    "name": "ipython",
    "version": 3
   },
   "file_extension": ".py",
   "mimetype": "text/x-python",
   "name": "python",
   "nbconvert_exporter": "python",
   "pygments_lexer": "ipython3",
   "version": "3.7.3"
  }
 },
 "nbformat": 4,
 "nbformat_minor": 2
}
